{
  "nbformat": 4,
  "nbformat_minor": 0,
  "metadata": {
    "colab": {
      "provenance": [],
      "include_colab_link": true
    },
    "kernelspec": {
      "name": "python3",
      "display_name": "Python 3"
    },
    "language_info": {
      "name": "python"
    }
  },
  "cells": [
    {
      "cell_type": "markdown",
      "metadata": {
        "id": "view-in-github",
        "colab_type": "text"
      },
      "source": [
        "<a href=\"https://colab.research.google.com/github/Givi-Modebadze/ML_Final_Project/blob/main/experiments/LightGBM_model.ipynb\" target=\"_parent\"><img src=\"https://colab.research.google.com/assets/colab-badge.svg\" alt=\"Open In Colab\"/></a>"
      ]
    },
    {
      "cell_type": "code",
      "execution_count": 1,
      "metadata": {
        "colab": {
          "base_uri": "https://localhost:8080/"
        },
        "id": "QaOGoyL28LBN",
        "outputId": "1513073d-920e-4a65-fcef-60aaf903af6f"
      },
      "outputs": [
        {
          "output_type": "stream",
          "name": "stdout",
          "text": [
            "Mounted at /content/drive\n",
            "/content/drive/My Drive/ML_Final_Project/walmart-recruiting-store-sales-forecasting\n"
          ]
        }
      ],
      "source": [
        "from google.colab import drive\n",
        "drive.mount('/content/drive')\n",
        "\n",
        "FOLDERNAME = 'ML_Final_Project/walmart-recruiting-store-sales-forecasting'\n",
        "assert FOLDERNAME is not None, \"[!] Enter the foldername.\"\n",
        "\n",
        "import sys\n",
        "sys.path.append('/content/drive/My Drive/{}'.format(FOLDERNAME))\n",
        "\n",
        "%cd /content/drive/My\\ Drive/$FOLDERNAME/"
      ]
    },
    {
      "cell_type": "code",
      "source": [
        "import numpy as np\n",
        "import pandas as pd\n",
        "\n",
        "df = pd.read_csv('train.csv')\n",
        "stores = pd.read_csv('stores.csv')\n",
        "features = pd.read_csv('features.csv')\n",
        "df = df.merge(stores, how='left', left_on='Store', right_on='Store')\n",
        "df = df.merge(features, how='left', left_on=['Store','Date'], right_on=['Store','Date'])\n",
        "df.head()"
      ],
      "metadata": {
        "colab": {
          "base_uri": "https://localhost:8080/",
          "height": 313
        },
        "id": "9-wdk2ht81IA",
        "outputId": "d80ad4c4-22ef-4991-e3e5-f42926d3e70b"
      },
      "execution_count": 2,
      "outputs": [
        {
          "output_type": "execute_result",
          "data": {
            "text/plain": [
              "   Store  Dept        Date  Weekly_Sales  IsHoliday_x Type    Size  \\\n",
              "0      1     1  2010-02-05      24924.50        False    A  151315   \n",
              "1      1     1  2010-02-12      46039.49         True    A  151315   \n",
              "2      1     1  2010-02-19      41595.55        False    A  151315   \n",
              "3      1     1  2010-02-26      19403.54        False    A  151315   \n",
              "4      1     1  2010-03-05      21827.90        False    A  151315   \n",
              "\n",
              "   Temperature  Fuel_Price  MarkDown1  MarkDown2  MarkDown3  MarkDown4  \\\n",
              "0        42.31       2.572        NaN        NaN        NaN        NaN   \n",
              "1        38.51       2.548        NaN        NaN        NaN        NaN   \n",
              "2        39.93       2.514        NaN        NaN        NaN        NaN   \n",
              "3        46.63       2.561        NaN        NaN        NaN        NaN   \n",
              "4        46.50       2.625        NaN        NaN        NaN        NaN   \n",
              "\n",
              "   MarkDown5         CPI  Unemployment  IsHoliday_y  \n",
              "0        NaN  211.096358         8.106        False  \n",
              "1        NaN  211.242170         8.106         True  \n",
              "2        NaN  211.289143         8.106        False  \n",
              "3        NaN  211.319643         8.106        False  \n",
              "4        NaN  211.350143         8.106        False  "
            ],
            "text/html": [
              "\n",
              "  <div id=\"df-b51ad83b-7eb8-42c4-98cf-6bcfde438688\" class=\"colab-df-container\">\n",
              "    <div>\n",
              "<style scoped>\n",
              "    .dataframe tbody tr th:only-of-type {\n",
              "        vertical-align: middle;\n",
              "    }\n",
              "\n",
              "    .dataframe tbody tr th {\n",
              "        vertical-align: top;\n",
              "    }\n",
              "\n",
              "    .dataframe thead th {\n",
              "        text-align: right;\n",
              "    }\n",
              "</style>\n",
              "<table border=\"1\" class=\"dataframe\">\n",
              "  <thead>\n",
              "    <tr style=\"text-align: right;\">\n",
              "      <th></th>\n",
              "      <th>Store</th>\n",
              "      <th>Dept</th>\n",
              "      <th>Date</th>\n",
              "      <th>Weekly_Sales</th>\n",
              "      <th>IsHoliday_x</th>\n",
              "      <th>Type</th>\n",
              "      <th>Size</th>\n",
              "      <th>Temperature</th>\n",
              "      <th>Fuel_Price</th>\n",
              "      <th>MarkDown1</th>\n",
              "      <th>MarkDown2</th>\n",
              "      <th>MarkDown3</th>\n",
              "      <th>MarkDown4</th>\n",
              "      <th>MarkDown5</th>\n",
              "      <th>CPI</th>\n",
              "      <th>Unemployment</th>\n",
              "      <th>IsHoliday_y</th>\n",
              "    </tr>\n",
              "  </thead>\n",
              "  <tbody>\n",
              "    <tr>\n",
              "      <th>0</th>\n",
              "      <td>1</td>\n",
              "      <td>1</td>\n",
              "      <td>2010-02-05</td>\n",
              "      <td>24924.50</td>\n",
              "      <td>False</td>\n",
              "      <td>A</td>\n",
              "      <td>151315</td>\n",
              "      <td>42.31</td>\n",
              "      <td>2.572</td>\n",
              "      <td>NaN</td>\n",
              "      <td>NaN</td>\n",
              "      <td>NaN</td>\n",
              "      <td>NaN</td>\n",
              "      <td>NaN</td>\n",
              "      <td>211.096358</td>\n",
              "      <td>8.106</td>\n",
              "      <td>False</td>\n",
              "    </tr>\n",
              "    <tr>\n",
              "      <th>1</th>\n",
              "      <td>1</td>\n",
              "      <td>1</td>\n",
              "      <td>2010-02-12</td>\n",
              "      <td>46039.49</td>\n",
              "      <td>True</td>\n",
              "      <td>A</td>\n",
              "      <td>151315</td>\n",
              "      <td>38.51</td>\n",
              "      <td>2.548</td>\n",
              "      <td>NaN</td>\n",
              "      <td>NaN</td>\n",
              "      <td>NaN</td>\n",
              "      <td>NaN</td>\n",
              "      <td>NaN</td>\n",
              "      <td>211.242170</td>\n",
              "      <td>8.106</td>\n",
              "      <td>True</td>\n",
              "    </tr>\n",
              "    <tr>\n",
              "      <th>2</th>\n",
              "      <td>1</td>\n",
              "      <td>1</td>\n",
              "      <td>2010-02-19</td>\n",
              "      <td>41595.55</td>\n",
              "      <td>False</td>\n",
              "      <td>A</td>\n",
              "      <td>151315</td>\n",
              "      <td>39.93</td>\n",
              "      <td>2.514</td>\n",
              "      <td>NaN</td>\n",
              "      <td>NaN</td>\n",
              "      <td>NaN</td>\n",
              "      <td>NaN</td>\n",
              "      <td>NaN</td>\n",
              "      <td>211.289143</td>\n",
              "      <td>8.106</td>\n",
              "      <td>False</td>\n",
              "    </tr>\n",
              "    <tr>\n",
              "      <th>3</th>\n",
              "      <td>1</td>\n",
              "      <td>1</td>\n",
              "      <td>2010-02-26</td>\n",
              "      <td>19403.54</td>\n",
              "      <td>False</td>\n",
              "      <td>A</td>\n",
              "      <td>151315</td>\n",
              "      <td>46.63</td>\n",
              "      <td>2.561</td>\n",
              "      <td>NaN</td>\n",
              "      <td>NaN</td>\n",
              "      <td>NaN</td>\n",
              "      <td>NaN</td>\n",
              "      <td>NaN</td>\n",
              "      <td>211.319643</td>\n",
              "      <td>8.106</td>\n",
              "      <td>False</td>\n",
              "    </tr>\n",
              "    <tr>\n",
              "      <th>4</th>\n",
              "      <td>1</td>\n",
              "      <td>1</td>\n",
              "      <td>2010-03-05</td>\n",
              "      <td>21827.90</td>\n",
              "      <td>False</td>\n",
              "      <td>A</td>\n",
              "      <td>151315</td>\n",
              "      <td>46.50</td>\n",
              "      <td>2.625</td>\n",
              "      <td>NaN</td>\n",
              "      <td>NaN</td>\n",
              "      <td>NaN</td>\n",
              "      <td>NaN</td>\n",
              "      <td>NaN</td>\n",
              "      <td>211.350143</td>\n",
              "      <td>8.106</td>\n",
              "      <td>False</td>\n",
              "    </tr>\n",
              "  </tbody>\n",
              "</table>\n",
              "</div>\n",
              "    <div class=\"colab-df-buttons\">\n",
              "\n",
              "  <div class=\"colab-df-container\">\n",
              "    <button class=\"colab-df-convert\" onclick=\"convertToInteractive('df-b51ad83b-7eb8-42c4-98cf-6bcfde438688')\"\n",
              "            title=\"Convert this dataframe to an interactive table.\"\n",
              "            style=\"display:none;\">\n",
              "\n",
              "  <svg xmlns=\"http://www.w3.org/2000/svg\" height=\"24px\" viewBox=\"0 -960 960 960\">\n",
              "    <path d=\"M120-120v-720h720v720H120Zm60-500h600v-160H180v160Zm220 220h160v-160H400v160Zm0 220h160v-160H400v160ZM180-400h160v-160H180v160Zm440 0h160v-160H620v160ZM180-180h160v-160H180v160Zm440 0h160v-160H620v160Z\"/>\n",
              "  </svg>\n",
              "    </button>\n",
              "\n",
              "  <style>\n",
              "    .colab-df-container {\n",
              "      display:flex;\n",
              "      gap: 12px;\n",
              "    }\n",
              "\n",
              "    .colab-df-convert {\n",
              "      background-color: #E8F0FE;\n",
              "      border: none;\n",
              "      border-radius: 50%;\n",
              "      cursor: pointer;\n",
              "      display: none;\n",
              "      fill: #1967D2;\n",
              "      height: 32px;\n",
              "      padding: 0 0 0 0;\n",
              "      width: 32px;\n",
              "    }\n",
              "\n",
              "    .colab-df-convert:hover {\n",
              "      background-color: #E2EBFA;\n",
              "      box-shadow: 0px 1px 2px rgba(60, 64, 67, 0.3), 0px 1px 3px 1px rgba(60, 64, 67, 0.15);\n",
              "      fill: #174EA6;\n",
              "    }\n",
              "\n",
              "    .colab-df-buttons div {\n",
              "      margin-bottom: 4px;\n",
              "    }\n",
              "\n",
              "    [theme=dark] .colab-df-convert {\n",
              "      background-color: #3B4455;\n",
              "      fill: #D2E3FC;\n",
              "    }\n",
              "\n",
              "    [theme=dark] .colab-df-convert:hover {\n",
              "      background-color: #434B5C;\n",
              "      box-shadow: 0px 1px 3px 1px rgba(0, 0, 0, 0.15);\n",
              "      filter: drop-shadow(0px 1px 2px rgba(0, 0, 0, 0.3));\n",
              "      fill: #FFFFFF;\n",
              "    }\n",
              "  </style>\n",
              "\n",
              "    <script>\n",
              "      const buttonEl =\n",
              "        document.querySelector('#df-b51ad83b-7eb8-42c4-98cf-6bcfde438688 button.colab-df-convert');\n",
              "      buttonEl.style.display =\n",
              "        google.colab.kernel.accessAllowed ? 'block' : 'none';\n",
              "\n",
              "      async function convertToInteractive(key) {\n",
              "        const element = document.querySelector('#df-b51ad83b-7eb8-42c4-98cf-6bcfde438688');\n",
              "        const dataTable =\n",
              "          await google.colab.kernel.invokeFunction('convertToInteractive',\n",
              "                                                    [key], {});\n",
              "        if (!dataTable) return;\n",
              "\n",
              "        const docLinkHtml = 'Like what you see? Visit the ' +\n",
              "          '<a target=\"_blank\" href=https://colab.research.google.com/notebooks/data_table.ipynb>data table notebook</a>'\n",
              "          + ' to learn more about interactive tables.';\n",
              "        element.innerHTML = '';\n",
              "        dataTable['output_type'] = 'display_data';\n",
              "        await google.colab.output.renderOutput(dataTable, element);\n",
              "        const docLink = document.createElement('div');\n",
              "        docLink.innerHTML = docLinkHtml;\n",
              "        element.appendChild(docLink);\n",
              "      }\n",
              "    </script>\n",
              "  </div>\n",
              "\n",
              "\n",
              "    <div id=\"df-4f41ccc7-643e-4dda-b9ac-567e70a6887b\">\n",
              "      <button class=\"colab-df-quickchart\" onclick=\"quickchart('df-4f41ccc7-643e-4dda-b9ac-567e70a6887b')\"\n",
              "                title=\"Suggest charts\"\n",
              "                style=\"display:none;\">\n",
              "\n",
              "<svg xmlns=\"http://www.w3.org/2000/svg\" height=\"24px\"viewBox=\"0 0 24 24\"\n",
              "     width=\"24px\">\n",
              "    <g>\n",
              "        <path d=\"M19 3H5c-1.1 0-2 .9-2 2v14c0 1.1.9 2 2 2h14c1.1 0 2-.9 2-2V5c0-1.1-.9-2-2-2zM9 17H7v-7h2v7zm4 0h-2V7h2v10zm4 0h-2v-4h2v4z\"/>\n",
              "    </g>\n",
              "</svg>\n",
              "      </button>\n",
              "\n",
              "<style>\n",
              "  .colab-df-quickchart {\n",
              "      --bg-color: #E8F0FE;\n",
              "      --fill-color: #1967D2;\n",
              "      --hover-bg-color: #E2EBFA;\n",
              "      --hover-fill-color: #174EA6;\n",
              "      --disabled-fill-color: #AAA;\n",
              "      --disabled-bg-color: #DDD;\n",
              "  }\n",
              "\n",
              "  [theme=dark] .colab-df-quickchart {\n",
              "      --bg-color: #3B4455;\n",
              "      --fill-color: #D2E3FC;\n",
              "      --hover-bg-color: #434B5C;\n",
              "      --hover-fill-color: #FFFFFF;\n",
              "      --disabled-bg-color: #3B4455;\n",
              "      --disabled-fill-color: #666;\n",
              "  }\n",
              "\n",
              "  .colab-df-quickchart {\n",
              "    background-color: var(--bg-color);\n",
              "    border: none;\n",
              "    border-radius: 50%;\n",
              "    cursor: pointer;\n",
              "    display: none;\n",
              "    fill: var(--fill-color);\n",
              "    height: 32px;\n",
              "    padding: 0;\n",
              "    width: 32px;\n",
              "  }\n",
              "\n",
              "  .colab-df-quickchart:hover {\n",
              "    background-color: var(--hover-bg-color);\n",
              "    box-shadow: 0 1px 2px rgba(60, 64, 67, 0.3), 0 1px 3px 1px rgba(60, 64, 67, 0.15);\n",
              "    fill: var(--button-hover-fill-color);\n",
              "  }\n",
              "\n",
              "  .colab-df-quickchart-complete:disabled,\n",
              "  .colab-df-quickchart-complete:disabled:hover {\n",
              "    background-color: var(--disabled-bg-color);\n",
              "    fill: var(--disabled-fill-color);\n",
              "    box-shadow: none;\n",
              "  }\n",
              "\n",
              "  .colab-df-spinner {\n",
              "    border: 2px solid var(--fill-color);\n",
              "    border-color: transparent;\n",
              "    border-bottom-color: var(--fill-color);\n",
              "    animation:\n",
              "      spin 1s steps(1) infinite;\n",
              "  }\n",
              "\n",
              "  @keyframes spin {\n",
              "    0% {\n",
              "      border-color: transparent;\n",
              "      border-bottom-color: var(--fill-color);\n",
              "      border-left-color: var(--fill-color);\n",
              "    }\n",
              "    20% {\n",
              "      border-color: transparent;\n",
              "      border-left-color: var(--fill-color);\n",
              "      border-top-color: var(--fill-color);\n",
              "    }\n",
              "    30% {\n",
              "      border-color: transparent;\n",
              "      border-left-color: var(--fill-color);\n",
              "      border-top-color: var(--fill-color);\n",
              "      border-right-color: var(--fill-color);\n",
              "    }\n",
              "    40% {\n",
              "      border-color: transparent;\n",
              "      border-right-color: var(--fill-color);\n",
              "      border-top-color: var(--fill-color);\n",
              "    }\n",
              "    60% {\n",
              "      border-color: transparent;\n",
              "      border-right-color: var(--fill-color);\n",
              "    }\n",
              "    80% {\n",
              "      border-color: transparent;\n",
              "      border-right-color: var(--fill-color);\n",
              "      border-bottom-color: var(--fill-color);\n",
              "    }\n",
              "    90% {\n",
              "      border-color: transparent;\n",
              "      border-bottom-color: var(--fill-color);\n",
              "    }\n",
              "  }\n",
              "</style>\n",
              "\n",
              "      <script>\n",
              "        async function quickchart(key) {\n",
              "          const quickchartButtonEl =\n",
              "            document.querySelector('#' + key + ' button');\n",
              "          quickchartButtonEl.disabled = true;  // To prevent multiple clicks.\n",
              "          quickchartButtonEl.classList.add('colab-df-spinner');\n",
              "          try {\n",
              "            const charts = await google.colab.kernel.invokeFunction(\n",
              "                'suggestCharts', [key], {});\n",
              "          } catch (error) {\n",
              "            console.error('Error during call to suggestCharts:', error);\n",
              "          }\n",
              "          quickchartButtonEl.classList.remove('colab-df-spinner');\n",
              "          quickchartButtonEl.classList.add('colab-df-quickchart-complete');\n",
              "        }\n",
              "        (() => {\n",
              "          let quickchartButtonEl =\n",
              "            document.querySelector('#df-4f41ccc7-643e-4dda-b9ac-567e70a6887b button');\n",
              "          quickchartButtonEl.style.display =\n",
              "            google.colab.kernel.accessAllowed ? 'block' : 'none';\n",
              "        })();\n",
              "      </script>\n",
              "    </div>\n",
              "\n",
              "    </div>\n",
              "  </div>\n"
            ],
            "application/vnd.google.colaboratory.intrinsic+json": {
              "type": "dataframe",
              "variable_name": "df"
            }
          },
          "metadata": {},
          "execution_count": 2
        }
      ]
    },
    {
      "cell_type": "code",
      "source": [
        "df['Date'] = pd.to_datetime(df['Date'])\n",
        "df['Year'] = df['Date'].dt.year\n",
        "df['Month'] = df['Date'].dt.month\n",
        "df['Week'] = df['Date'].dt.isocalendar().week\n",
        "df['Quarter'] = df['Date'].dt.quarter\n",
        "df['DayOfYear'] = df['Date'].dt.dayofyear"
      ],
      "metadata": {
        "id": "opj_mqWB7Haw"
      },
      "execution_count": 3,
      "outputs": []
    },
    {
      "cell_type": "code",
      "source": [
        "markdown_cols = ['MarkDown1', 'MarkDown2', 'MarkDown3', 'MarkDown4', 'MarkDown5']\n",
        "for col in markdown_cols:\n",
        "    df[col] = df[col].fillna(0)"
      ],
      "metadata": {
        "id": "s-DwElBl7M-c"
      },
      "execution_count": 4,
      "outputs": []
    },
    {
      "cell_type": "code",
      "source": [
        "df['CPI'] = df['CPI'].fillna(df['CPI'].median())\n",
        "df['Unemployment'] = df['Unemployment'].fillna(df['Unemployment'].median())"
      ],
      "metadata": {
        "id": "JJaoZW-P7QJd"
      },
      "execution_count": 5,
      "outputs": []
    },
    {
      "cell_type": "code",
      "source": [
        "df['IsHoliday_y'] = df['IsHoliday_y'].astype(int)\n",
        "\n",
        "df['IsSuperbowl'] = df['Date'].dt.strftime('%Y-%m-%d').isin([\n",
        "    '2010-02-12', '2011-02-11', '2012-02-10'\n",
        "]).astype(int)\n",
        "\n",
        "df['IsLaborDay'] = df['Date'].dt.strftime('%Y-%m-%d').isin([\n",
        "    '2010-09-10', '2011-09-09', '2012-09-07'\n",
        "]).astype(int)\n",
        "\n",
        "df['IsThanksgiving'] = df['Date'].dt.strftime('%Y-%m-%d').isin([\n",
        "    '2010-11-26', '2011-11-25', '2012-11-23'\n",
        "]).astype(int)\n",
        "\n",
        "df['IsChristmas'] = df['Date'].dt.strftime('%Y-%m-%d').isin([\n",
        "    '2010-12-31', '2011-12-30', '2012-12-28'\n",
        "]).astype(int)"
      ],
      "metadata": {
        "id": "g5h8dMxj7UkW"
      },
      "execution_count": 6,
      "outputs": []
    },
    {
      "cell_type": "code",
      "source": [
        "df = df.sort_values(['Store', 'Dept', 'Date'])"
      ],
      "metadata": {
        "id": "Xivuaqpb7b1m"
      },
      "execution_count": 7,
      "outputs": []
    },
    {
      "cell_type": "code",
      "source": [
        "df['Sales_Rolling_Mean_4'] = df.groupby(['Store', 'Dept'])['Weekly_Sales'].transform(\n",
        "    lambda x: x.rolling(4, min_periods=1).mean()\n",
        ")\n",
        "df['Sales_Rolling_Std_4'] = df.groupby(['Store', 'Dept'])['Weekly_Sales'].transform(\n",
        "    lambda x: x.rolling(4, min_periods=1).std()\n",
        ")"
      ],
      "metadata": {
        "id": "Mkv8ESGr7fD-"
      },
      "execution_count": 8,
      "outputs": []
    },
    {
      "cell_type": "code",
      "source": [
        "from sklearn.preprocessing import LabelEncoder\n",
        "\n",
        "le_type = LabelEncoder()\n",
        "df['Type_encoded'] = le_type.fit_transform(df['Type'])\n",
        "\n",
        "df['Store_Dept'] = df['Store'] * 100 + df['Dept']"
      ],
      "metadata": {
        "id": "t6NStBEb7hzM"
      },
      "execution_count": 9,
      "outputs": []
    },
    {
      "cell_type": "code",
      "source": [
        "dept_stats = df.groupby('Dept')['Weekly_Sales'].agg(['mean', 'std']).reset_index()\n",
        "dept_stats.columns = ['Dept', 'Dept_Sales_Mean', 'Dept_Sales_Std']\n",
        "df = df.merge(dept_stats, on='Dept', how='left')\n",
        "\n",
        "store_stats = df.groupby('Store')['Weekly_Sales'].agg(['mean', 'std']).reset_index()\n",
        "store_stats.columns = ['Store', 'Store_Sales_Mean', 'Store_Sales_Std']\n",
        "df = df.merge(store_stats, on='Store', how='left')"
      ],
      "metadata": {
        "id": "mhiFVm0g7lHm"
      },
      "execution_count": 10,
      "outputs": []
    },
    {
      "cell_type": "code",
      "source": [
        "feature_cols = [\n",
        "    'Store', 'Dept', 'Size', 'Type_encoded', 'Store_Dept',\n",
        "    'Temperature', 'Fuel_Price', 'CPI', 'Unemployment',\n",
        "    'MarkDown1', 'MarkDown2', 'MarkDown3', 'MarkDown4', 'MarkDown5',\n",
        "    'Year', 'Month', 'Week', 'Quarter', 'DayOfYear',\n",
        "    'IsHoliday_y', 'IsSuperbowl', 'IsLaborDay', 'IsThanksgiving', 'IsChristmas',\n",
        "    'Sales_Rolling_Mean_4', 'Sales_Rolling_Std_4',\n",
        "    'Dept_Sales_Mean', 'Dept_Sales_Std',\n",
        "    'Store_Sales_Mean', 'Store_Sales_Std'\n",
        "]"
      ],
      "metadata": {
        "id": "xIEmEpOp7oom"
      },
      "execution_count": 11,
      "outputs": []
    },
    {
      "cell_type": "code",
      "source": [
        "X = df[feature_cols]\n",
        "y = df['Weekly_Sales']"
      ],
      "metadata": {
        "id": "uhivC5TE7s_c"
      },
      "execution_count": 12,
      "outputs": []
    },
    {
      "cell_type": "code",
      "source": [
        "from sklearn.model_selection import train_test_split\n",
        "\n",
        "X_train, X_val, y_train, y_val = train_test_split(\n",
        "    X, y, test_size=0.2, random_state=42, stratify=df['Store']\n",
        ")"
      ],
      "metadata": {
        "id": "tbNE1yKH7vKN"
      },
      "execution_count": 13,
      "outputs": []
    },
    {
      "cell_type": "code",
      "source": [
        "import lightgbm as lgb\n",
        "\n",
        "params = {\n",
        "    'objective': 'regression',\n",
        "    'metric': 'mae',\n",
        "    'boosting_type': 'gbdt',\n",
        "    'num_leaves': 31,\n",
        "    'learning_rate': 0.05,\n",
        "    'feature_fraction': 0.9,\n",
        "    'bagging_fraction': 0.8,\n",
        "    'bagging_freq': 5,\n",
        "    'verbose': -1,\n",
        "    'random_state': 42,\n",
        "    'reg_alpha': 0.1,\n",
        "    'reg_lambda': 0.1\n",
        "}\n",
        "train_data = lgb.Dataset(X_train, label=y_train)\n",
        "val_data = lgb.Dataset(X_val, label=y_val, reference=train_data)"
      ],
      "metadata": {
        "id": "TkkZ4PbPEZr0"
      },
      "execution_count": 14,
      "outputs": []
    },
    {
      "cell_type": "code",
      "source": [
        "model = lgb.train(\n",
        "    params,\n",
        "    train_data,\n",
        "    valid_sets=[train_data, val_data],\n",
        "    valid_names=['train', 'val'],\n",
        "    num_boost_round=1000,\n",
        "    callbacks=[\n",
        "        lgb.early_stopping(stopping_rounds=50),\n",
        "        lgb.log_evaluation(period=100)\n",
        "    ]\n",
        ")"
      ],
      "metadata": {
        "id": "BUbohWDP71BV",
        "outputId": "79c0e7b3-ee1c-4813-cf4e-3569dc3b50c1",
        "colab": {
          "base_uri": "https://localhost:8080/"
        }
      },
      "execution_count": 15,
      "outputs": [
        {
          "output_type": "stream",
          "name": "stdout",
          "text": [
            "Training until validation scores don't improve for 50 rounds\n",
            "[100]\ttrain's l1: 1539.46\tval's l1: 1548.63\n",
            "[200]\ttrain's l1: 1305.25\tval's l1: 1324.87\n",
            "[300]\ttrain's l1: 1213.03\tval's l1: 1240.39\n",
            "[400]\ttrain's l1: 1151.21\tval's l1: 1186.14\n",
            "[500]\ttrain's l1: 1109.23\tval's l1: 1150.09\n",
            "[600]\ttrain's l1: 1076.27\tval's l1: 1122.36\n",
            "[700]\ttrain's l1: 1046.38\tval's l1: 1098.4\n",
            "[800]\ttrain's l1: 1024.8\tval's l1: 1082.56\n",
            "[900]\ttrain's l1: 1003.89\tval's l1: 1067.19\n",
            "[1000]\ttrain's l1: 985.603\tval's l1: 1053.08\n",
            "Did not meet early stopping. Best iteration is:\n",
            "[1000]\ttrain's l1: 985.603\tval's l1: 1053.08\n"
          ]
        }
      ]
    },
    {
      "cell_type": "code",
      "source": [
        "from sklearn.metrics import mean_absolute_error\n",
        "\n",
        "y_pred = model.predict(X_val, num_iteration=model.best_iteration)\n",
        "mae = mean_absolute_error(y_val, y_pred)\n",
        "print(f\"Validation MAE: {mae:.2f}\")"
      ],
      "metadata": {
        "id": "od6O_ccy74T1",
        "outputId": "7b0b3c31-608d-44e1-aee5-a9a78e852143",
        "colab": {
          "base_uri": "https://localhost:8080/"
        }
      },
      "execution_count": 16,
      "outputs": [
        {
          "output_type": "stream",
          "name": "stdout",
          "text": [
            "Validation MAE: 1053.08\n"
          ]
        }
      ]
    },
    {
      "cell_type": "code",
      "source": [
        "holiday_mask = X_val['IsHoliday_y'] == 1\n",
        "holiday_mae = mean_absolute_error(y_val[holiday_mask], y_pred[holiday_mask]) if holiday_mask.sum() > 0 else 0\n",
        "non_holiday_mae = mean_absolute_error(y_val[~holiday_mask], y_pred[~holiday_mask])\n",
        "\n",
        "wmae = (5 * holiday_mae * holiday_mask.sum() + non_holiday_mae * (~holiday_mask).sum()) / (5 * holiday_mask.sum() + (~holiday_mask).sum())\n",
        "print(f\"Approximate WMAE: {wmae:.2f}\")"
      ],
      "metadata": {
        "id": "LoYd_-lC78Qe",
        "outputId": "b0e486a1-dd03-4cc9-98bf-2b8325e90d86",
        "colab": {
          "base_uri": "https://localhost:8080/"
        }
      },
      "execution_count": 17,
      "outputs": [
        {
          "output_type": "stream",
          "name": "stdout",
          "text": [
            "Approximate WMAE: 1112.89\n"
          ]
        }
      ]
    },
    {
      "cell_type": "code",
      "source": [
        "test = pd.read_csv(\"test.csv\")\n",
        "stores = pd.read_csv(\"stores.csv\")\n",
        "features = pd.read_csv(\"features.csv\")\n",
        "\n",
        "\n",
        "test = test.merge(stores, on=\"Store\", how=\"left\")\n",
        "test = test.merge(features, on=[\"Store\", \"Date\"], how=\"left\")"
      ],
      "metadata": {
        "id": "QQB-8OSc9J3T"
      },
      "execution_count": 18,
      "outputs": []
    },
    {
      "cell_type": "code",
      "source": [
        "test['Date'] = pd.to_datetime(test['Date'])\n",
        "test['Year'] = test['Date'].dt.year\n",
        "test['Month'] = test['Date'].dt.month\n",
        "test['Week'] = test['Date'].dt.isocalendar().week\n",
        "test['Quarter'] = test['Date'].dt.quarter\n",
        "test['DayOfYear'] = test['Date'].dt.dayofyear\n",
        "\n",
        "markdown_cols = ['MarkDown1', 'MarkDown2', 'MarkDown3', 'MarkDown4', 'MarkDown5']\n",
        "for col in markdown_cols:\n",
        "    test[col] = test[col].fillna(0)\n",
        "\n",
        "test['CPI'] = test['CPI'].fillna(df['CPI'].median())  # use training median\n",
        "test['Unemployment'] = test['Unemployment'].fillna(df['Unemployment'].median())\n",
        "\n",
        "test['IsHoliday_y'] = test['IsHoliday_y'].astype(int)\n",
        "\n",
        "test['IsSuperbowl'] = test['Date'].dt.strftime('%Y-%m-%d').isin([\n",
        "    '2010-02-12', '2011-02-11', '2012-02-10', '2013-02-08'\n",
        "]).astype(int)\n",
        "\n",
        "test['IsLaborDay'] = test['Date'].dt.strftime('%Y-%m-%d').isin([\n",
        "    '2010-09-10', '2011-09-09', '2012-09-07', '2013-09-06'\n",
        "]).astype(int)\n",
        "\n",
        "test['IsThanksgiving'] = test['Date'].dt.strftime('%Y-%m-%d').isin([\n",
        "    '2010-11-26', '2011-11-25', '2012-11-23', '2013-11-29'\n",
        "]).astype(int)\n",
        "\n",
        "test['IsChristmas'] = test['Date'].dt.strftime('%Y-%m-%d').isin([\n",
        "    '2010-12-31', '2011-12-30', '2012-12-28', '2013-12-27'\n",
        "]).astype(int)\n"
      ],
      "metadata": {
        "id": "CouViuQ-lXxU"
      },
      "execution_count": 19,
      "outputs": []
    },
    {
      "cell_type": "code",
      "source": [
        "test['Type_encoded'] = le_type.transform(test['Type'])\n",
        "\n",
        "test['Store_Dept'] = test['Store'] * 100 + test['Dept']\n",
        "\n",
        "test['Sales_Rolling_Mean_4'] = df.groupby(['Store', 'Dept'])['Weekly_Sales'].transform(lambda x: x.rolling(4, 1).mean()).mean()\n",
        "test['Sales_Rolling_Std_4'] = df.groupby(['Store', 'Dept'])['Weekly_Sales'].transform(lambda x: x.rolling(4, 1).std()).mean()\n",
        "\n",
        "test = test.merge(dept_stats, on='Dept', how='left')\n",
        "\n",
        "test = test.merge(store_stats, on='Store', how='left')\n"
      ],
      "metadata": {
        "id": "GA9Zsxbplb_C"
      },
      "execution_count": 20,
      "outputs": []
    },
    {
      "cell_type": "code",
      "source": [
        "X_submission = test[feature_cols]\n",
        "\n",
        "y_submission = model.predict(X_submission, num_iteration=model.best_iteration)"
      ],
      "metadata": {
        "id": "f-pPOu4Plhcl"
      },
      "execution_count": 21,
      "outputs": []
    },
    {
      "cell_type": "code",
      "source": [
        "submission = pd.DataFrame({\n",
        "    \"Id\": test[\"Store\"].astype(str) + \"_\" +\n",
        "          test[\"Dept\"].astype(str) + \"_\" +\n",
        "          test[\"Date\"].astype(str),\n",
        "    \"Weekly_Sales\": y_submission\n",
        "})\n",
        "\n",
        "submission.to_csv(\"submission.csv\", index=False)"
      ],
      "metadata": {
        "id": "8zGjG1Z8ljiI"
      },
      "execution_count": 22,
      "outputs": []
    },
    {
      "cell_type": "code",
      "source": [],
      "metadata": {
        "id": "FdKitElklzVE"
      },
      "execution_count": null,
      "outputs": []
    }
  ]
}